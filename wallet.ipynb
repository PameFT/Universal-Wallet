{
 "cells": [
  {
   "cell_type": "code",
   "execution_count": 2,
   "id": "854bbdad-0afd-4235-918b-59441c6026db",
   "metadata": {},
   "outputs": [
    {
     "data": {
      "text/plain": [
       "True"
      ]
     },
     "execution_count": 2,
     "metadata": {},
     "output_type": "execute_result"
    }
   ],
   "source": [
    "# Import dependencies\n",
    "import subprocess\n",
    "import json\n",
    "import os\n",
    "from dotenv import load_dotenv\n",
    "from web3.middleware import geth_poa_middleware\n",
    "load_dotenv()"
   ]
  },
  {
   "cell_type": "code",
   "execution_count": 3,
   "id": "da98d523-06da-4518-b653-628c78b3048a",
   "metadata": {},
   "outputs": [],
   "source": [
    "# Import constants.py and necessary functions from bit and web3\n",
    "from constants import BTC, BTCTEST, ETH\n",
    "\n",
    "# for BITTEST\n",
    "from bit import wif_to_key\n",
    "from bit import PrivateKeyTestnet\n",
    "from bit.network import NetworkAPI\n",
    "\n",
    "# #Python Ethereum \n",
    "from web3 import Web3\n",
    "from getpass import getpass\n",
    "from eth_account import Account\n",
    "from pathlib import Path"
   ]
  },
  {
   "cell_type": "code",
   "execution_count": 4,
   "id": "6a348e9c-e91d-4583-b074-cea3b4465633",
   "metadata": {},
   "outputs": [
    {
     "data": {
      "text/plain": [
       "'btc-test'"
      ]
     },
     "execution_count": 4,
     "metadata": {},
     "output_type": "execute_result"
    }
   ],
   "source": [
    "BTCTEST"
   ]
  },
  {
   "cell_type": "markdown",
   "id": "b3e5ccda-0e00-47bf-9976-71a759766995",
   "metadata": {},
   "source": [
    "### Local PoA Ethereum transaction"
   ]
  },
  {
   "cell_type": "code",
   "execution_count": 5,
   "id": "b90d0a4d-4797-4b9c-ab2d-c60c087098da",
   "metadata": {},
   "outputs": [],
   "source": [
    "from web3 import Account\n",
    "w3 = Web3(Web3.HTTPProvider(\"http://127.0.0.1:8545\"))\n",
    "\n",
    "from web3.gas_strategies.time_based import medium_gas_price_strategy\n",
    "w3.eth.setGasPriceStrategy(medium_gas_price_strategy)\n",
    "\n",
    "from web3.middleware import geth_poa_middleware\n",
    "w3.middleware_onion.inject(geth_poa_middleware, layer=0)"
   ]
  },
  {
   "cell_type": "code",
   "execution_count": 6,
   "id": "17495193-4dba-4494-a2b6-7dce99956147",
   "metadata": {},
   "outputs": [
    {
     "data": {
      "text/plain": [
       "'universe noble narrow cricket birth vendor camp tackle source right gown auction'"
      ]
     },
     "execution_count": 6,
     "metadata": {},
     "output_type": "execute_result"
    }
   ],
   "source": [
    "# Load mnemonic and set environment variables\n",
    "mnemonic = os.getenv(\"mnemonic\")\n",
    "mnemonic"
   ]
  },
  {
   "cell_type": "code",
   "execution_count": 7,
   "id": "26890776-9cbe-4c01-88f8-884569a94f57",
   "metadata": {},
   "outputs": [],
   "source": [
    "# set mnemonic environment variables\n",
    "mnemonic = os.getenv('mnemonic', 'universe noble narrow cricket birth vendor camp tackle source right gown auction')"
   ]
  },
  {
   "cell_type": "code",
   "execution_count": 8,
   "id": "494d7217-116d-40de-8bd0-c34e7ff6900e",
   "metadata": {},
   "outputs": [
    {
     "name": "stdout",
     "output_type": "stream",
     "text": [
      "./derive -g --coin=ETH --numderive=2 --format=json --mnemonic=\"universe noble narrow cricket birth vendor camp tackle source right gown auction\" \n",
      "\n",
      "[{'path': \"m/44'/60'/0'/0/0\", 'address': '0x39b3197DA5bA23D4efBa2D7cC62B183296B4E070', 'xprv': 'xprvA48fRut3TP4quQn1swZmVEUcQ2xFjnYi2GaYSgkD6gvi9qzTuEPyADDnmXKTNbyfDFyE4bGa6x5gsgUJyv5WFwuxpJhGsQd3qZTbGhbaUfn', 'xpub': 'xpub6H81qRQwHkd97trUyy6mrNRLx4nk9FGZPVW9F59pf2Th2eKcSmiDi1YGcpuUA3R5noxTr3ee1dNhxJ6sLZRWV1CAYbEGY2VxFyJLya9L7kW', 'privkey': '0x5917ea950beb381fddf203b5dbef61b7475c54445296cb40b824cf3b648e49e6', 'pubkey': '03a9b4fc42acfca15789159f747cbc966526d8e354a6fc795feb5608d2741c1464', 'pubkeyhash': '48afb37ad893ce134cfaeda5a75930ba361fddae', 'index': 0}, {'path': \"m/44'/60'/0'/0/1\", 'address': '0x8B93bB4fFE5e736CE6f88969Ac0F194d3C64E68A', 'xprv': 'xprvA48fRut3TP4qx7kuvvrWe4t426XVnPe8vVnHGf3GCJaa4NZccVmsJyftpFAyfwSXYcDsuqXwXs4c7wmYYWNZbFGsVrU34AYjPsZsGMSXZPo', 'xpub': 'xpub6H81qRQwHkd9AbqP2xPX1Cpna8MzBrMzHiht53Sske7YwAtmA367rmzNfWrm9dnYmkJSMeMWz3zAxxAPh8fy7KgsPu7wyr3TUKtZTqzvhyf', 'privkey': '0xe02fa529e5bb954c1ca5b89730d9ee52363a91732ab232a560d47b96aff0b243', 'pubkey': '033682a2fedac43581a91c24ba629aa980c29b7732e858ae8321664d1d939a0404', 'pubkeyhash': '981598e1128851541c36d11ad63f067cbeb5403b', 'index': 1}]\n"
     ]
    }
   ],
   "source": [
    "command = './derive -g --coin=ETH --numderive=2 --format=json --mnemonic=\"' + mnemonic + '\" '\n",
    "\n",
    "print(command)\n",
    "print()\n",
    "p = subprocess.Popen(command, stdout=subprocess.PIPE, shell=True)\n",
    "output, err = p.communicate()\n",
    "p_status = p.wait()\n",
    "\n",
    "keys = json.loads(output)\n",
    "print(keys)"
   ]
  },
  {
   "cell_type": "code",
   "execution_count": 9,
   "id": "4ba5c010-6a15-4065-8159-4bb78f701a63",
   "metadata": {},
   "outputs": [],
   "source": [
    "# Create a function called `derive_wallets`\n",
    "def derive_wallets(coin, mnemonic, numderive=3):  \n",
    "    command = f'./derive -g --coin={coin} --format=json --numderive={numderive} --mnemonic=\"{mnemonic}\"'\n",
    "    p = subprocess.Popen(command, stdout=subprocess.PIPE, shell=True)\n",
    "    output, err = p.communicate()\n",
    "    p_status = p.wait()\n",
    "    return json.loads(output)"
   ]
  },
  {
   "cell_type": "code",
   "execution_count": 10,
   "id": "2cbc9a1a-0a1d-4070-9462-2d5d05f300ff",
   "metadata": {},
   "outputs": [],
   "source": [
    "# Create a dictionary object called coins to store the output from `derive_wallets`.\n",
    "coins = {}\n",
    "coin_type = [BTC, ETH, BTCTEST]\n",
    "for x in coin_type:\n",
    "    coins[x] = derive_wallets(x, mnemonic)"
   ]
  },
  {
   "cell_type": "code",
   "execution_count": 11,
   "id": "8d0955d7-d020-4c3e-b259-aebe9892a11f",
   "metadata": {},
   "outputs": [
    {
     "data": {
      "text/plain": [
       "{'btc': [{'path': \"m/44'/0'/0'/0/0\",\n",
       "   'address': '1AriHaqwgoHtkesV8sCnBZmxG7ucrGr2CV',\n",
       "   'xprv': 'xprvA4GvwzikAYwQCQmfrXQUeiVb5KMtTTyd6eSnkMJbgYnX2c1hHWU2K7qk9DchFyiGihZ6AfgAbSQNRwiDPA5GkebkcGRDrKU5eaPuF3izUvH',\n",
       "   'xpub': 'xpub6HGHMWFdzvVhQtr8xYwV1rSKdMCNrvhUTsNPYjiDEtKVuQLqq3nGrvADzXAhF5X6LvehYcX5oS9NFd6J44xkTc8r4seS2M8tS1qnQ8fv9cR',\n",
       "   'privkey': 'KyrQPt1z3drLVJ86vekPp225eqHDMq5k37c2aGuoSvgvXcY4qQFC',\n",
       "   'pubkey': '039a979cffabbe151d11ab9134f1038c52fc7450f0a0410968eb8c955f24e54a18',\n",
       "   'pubkeyhash': '6c1ffa59e77efb55cfb3f480c5a28433d7061bf5',\n",
       "   'index': 0},\n",
       "  {'path': \"m/44'/0'/0'/0/1\",\n",
       "   'address': '1NRjP6RhB6CpfCVmUKHYff5yXuquevhSKS',\n",
       "   'xprv': 'xprvA4GvwzikAYwQFSMcrCgMHsS1shB8X4VoSFkXgARV2htNTPgUwc7Zw5kgPY7C3jXkmroS8HUbY99KK5ouo1BUCVTXGMDEVW3QXrLjDopDs3r',\n",
       "   'xpub': 'xpub6HGHMWFdzvVhTvS5xEDMf1NkRj1cvXDeoUg8UYq6b3RMLC1dV9RpUt5AEqtzP2YWuBpnH46tfhE78kczSCD4ykLbkro49yaoRjcjD8kb8E8',\n",
       "   'privkey': 'L118E6ZcX8sAbBzH2hChekTxwrpfCFmkbLhUpjQda4Ga56SiksJG',\n",
       "   'pubkey': '03dc3fac781fac4b2d40e24c1d9aafb193166495e516ef450675da30b9a0aaa5b9',\n",
       "   'pubkeyhash': 'eb08009a5c852229eff2ec6a0e5025ed996e8321',\n",
       "   'index': 1},\n",
       "  {'path': \"m/44'/0'/0'/0/2\",\n",
       "   'address': '19fPKzDXw25UA4uE2Tn6CvZPzeX5vXshKZ',\n",
       "   'xprv': 'xprvA4GvwzikAYwQK7ZAxJ1JC6ar336mW445p6UMM29KpyYP11sDuEjCgd2HmUiPxPzAR2iLZprR6EeQaYqcL2R6Ly52BHb7j7dEKBpXMcLYPdp',\n",
       "   'xpub': 'xpub6HGHMWFdzvVhXbde4KYJZEXab4wFuWmwBKPx9QYwPK5MspCNSn3TERLmcmLc1zvga4RPtH6gRmYbcVL89YQSVsG6VAf8Yg3RexZMyuyRFAm',\n",
       "   'privkey': 'KzXrBjJ56maHSr66rWG5LfiZfbB3pLVN9GkeehcpqNYhB7wtyn4c',\n",
       "   'pubkey': '0334be47f151537b989e44507179decb37111389823d8287b65cde313a3bbd1204',\n",
       "   'pubkeyhash': '5f0373649e0013160ae70c29f84ef5125d243435',\n",
       "   'index': 2}],\n",
       " 'eth': [{'path': \"m/44'/60'/0'/0/0\",\n",
       "   'address': '0x39b3197DA5bA23D4efBa2D7cC62B183296B4E070',\n",
       "   'xprv': 'xprvA48fRut3TP4quQn1swZmVEUcQ2xFjnYi2GaYSgkD6gvi9qzTuEPyADDnmXKTNbyfDFyE4bGa6x5gsgUJyv5WFwuxpJhGsQd3qZTbGhbaUfn',\n",
       "   'xpub': 'xpub6H81qRQwHkd97trUyy6mrNRLx4nk9FGZPVW9F59pf2Th2eKcSmiDi1YGcpuUA3R5noxTr3ee1dNhxJ6sLZRWV1CAYbEGY2VxFyJLya9L7kW',\n",
       "   'privkey': '0x5917ea950beb381fddf203b5dbef61b7475c54445296cb40b824cf3b648e49e6',\n",
       "   'pubkey': '03a9b4fc42acfca15789159f747cbc966526d8e354a6fc795feb5608d2741c1464',\n",
       "   'pubkeyhash': '48afb37ad893ce134cfaeda5a75930ba361fddae',\n",
       "   'index': 0},\n",
       "  {'path': \"m/44'/60'/0'/0/1\",\n",
       "   'address': '0x8B93bB4fFE5e736CE6f88969Ac0F194d3C64E68A',\n",
       "   'xprv': 'xprvA48fRut3TP4qx7kuvvrWe4t426XVnPe8vVnHGf3GCJaa4NZccVmsJyftpFAyfwSXYcDsuqXwXs4c7wmYYWNZbFGsVrU34AYjPsZsGMSXZPo',\n",
       "   'xpub': 'xpub6H81qRQwHkd9AbqP2xPX1Cpna8MzBrMzHiht53Sske7YwAtmA367rmzNfWrm9dnYmkJSMeMWz3zAxxAPh8fy7KgsPu7wyr3TUKtZTqzvhyf',\n",
       "   'privkey': '0xe02fa529e5bb954c1ca5b89730d9ee52363a91732ab232a560d47b96aff0b243',\n",
       "   'pubkey': '033682a2fedac43581a91c24ba629aa980c29b7732e858ae8321664d1d939a0404',\n",
       "   'pubkeyhash': '981598e1128851541c36d11ad63f067cbeb5403b',\n",
       "   'index': 1},\n",
       "  {'path': \"m/44'/60'/0'/0/2\",\n",
       "   'address': '0x9d129235D3f0AE772F9A04263F08fb7A3344b5f1',\n",
       "   'xprv': 'xprvA48fRut3TP4qyn2QRH1QtidL1yzYv3DYLTRm9jsLK36pJnn5tN8iGCLpNag3Em2v65LEHW7U7Xj2RJBQ8D4RfohuYGgpwcJgAS2pvfPxTnr',\n",
       "   'xpub': 'xpub6H81qRQwHkd9CG6sXJYRFra4a1q3KVwPhgMMx8GwsNdoBb7ERuSxozfJDrL5v7QTnR5RVZKkrCfF2pwdWet12aw6ZdtJjKBwidEbcdeBG3n',\n",
       "   'privkey': '0xe5b14f5c22db06c7d675baad45a8925dc68d84d50c7cf841ad80bcf55de6c1bd',\n",
       "   'pubkey': '03381216788dc73f9eb1fc019af6634305433fdddab72006002c37c5a1b5ee7278',\n",
       "   'pubkeyhash': '200f0530b03156046979035d416979d0e8f5c159',\n",
       "   'index': 2}],\n",
       " 'btc-test': [{'path': \"m/44'/1'/0'/0/0\",\n",
       "   'address': 'mw5aq4qXnC53w1CinhnahZz4CEmTUb221p',\n",
       "   'xprv': 'tprv8jS2qZGcuggqXFwWpt2wzTKEQb9wn4sb4Z7qbjZq45ToUBVLXYGfFZDViYSkDb47rWgEQym1wtW1dTqf8HzsF1u6hW8VcPQMYN5xRsk4xjQ',\n",
       "   'xpub': 'tpubDG84yyJs44NWQiyJiXhYPryLycfswQ4VdrictFc8UMGCJfk79w6FS3qMtfpakDjqqTeyVNEgfpsrWTu9eUSQwHYQvp3zsoBXMT92ohDySqq',\n",
       "   'privkey': 'cTn8tP32ratca9R45YtuvZtF2byGmFoD5omZHSADGsjwZmmz1ewn',\n",
       "   'pubkey': '02f189c714e3b216636a13343e5bb876b972499a63ff4ba0f5293f70b50e58df10',\n",
       "   'pubkeyhash': 'aab5b1f6b38d775c1f64ebb732c16f3472635211',\n",
       "   'index': 0},\n",
       "  {'path': \"m/44'/1'/0'/0/1\",\n",
       "   'address': 'mpoVSi8fLSUdEp9fE8EAc2o8cCESoK4Jur',\n",
       "   'xprv': 'tprv8jS2qZGcuggqaUQpVyD2ZrBAmjcrNHJjg5Faonv4DTohyEJYNtqihUSobApnHWmJBm6CHbRPw8cx9RpMSs5Hye7GaqH16HQ5XJMvgM1QF3u',\n",
       "   'xpub': 'tpubDG84yyJs44NWTwScPcscyFqHLm8nXcVeFNrN6JxMdjc6oiZK1HfJsy4fmKP7yT1NEnPFnB9QAPyHyFSR7dGaXC6W6VyS3AmBqkgriTtZ6rA',\n",
       "   'privkey': 'cNfLAE5AuU2o6MiCcKBZ3zoPXZsEDV6Tyx8SZBVWiY7VbNcR8DCQ',\n",
       "   'pubkey': '02f464e00e15706714d418b632f78c22f423f071ce64e6bb9ab134352053c45fe0',\n",
       "   'pubkeyhash': '65d9ca1df21df2b6c883161b71f1eb487e23d07c',\n",
       "   'index': 1},\n",
       "  {'path': \"m/44'/1'/0'/0/2\",\n",
       "   'address': 'mpSE6Mijn78rpzKKMNqVdQymmtgnSZi7r5',\n",
       "   'xprv': 'tprv8jS2qZGcuggqcXyf8DYsuDNuK2bCxNr881XMNbpuk3C3FKaCdmc7Q32dQ25gamQRRYiSAozV1k4XujVSopqBvaVayaJxebk7fpHYuLdbpaN',\n",
       "   'xpub': 'tpubDG84yyJs44NWW11T1sDUJd31t4797i32hK88f7sDAJzS5opyGARhaXeVaBm7ZTufM3haygJFgwizMTxpPfUcAabGs93k52qwYGSKUcJEd8x',\n",
       "   'privkey': 'cPBbXsv9iJgxo536ekAs52NPvp9VPzKpdb4UNttYHNAkJBaDnm5z',\n",
       "   'pubkey': '0397c2d3da832701cbf0b66f2e5804517dbb3e127714901995ff35a5b1ff6a92e8',\n",
       "   'pubkeyhash': '61d43d733c861d29543d133e52b2d6fbb8a9edad',\n",
       "   'index': 2}]}"
      ]
     },
     "execution_count": 11,
     "metadata": {},
     "output_type": "execute_result"
    }
   ],
   "source": [
    "coins"
   ]
  },
  {
   "cell_type": "code",
   "execution_count": 12,
   "id": "4f174a2d-84c7-4daa-b07b-9fd551cbd3c0",
   "metadata": {},
   "outputs": [
    {
     "name": "stdout",
     "output_type": "stream",
     "text": [
      "btc 3\n",
      "eth 3\n",
      "btc-test 3\n"
     ]
    }
   ],
   "source": [
    "for coin in coins:\n",
    "    print(coin, len(coins[coin]))"
   ]
  },
  {
   "cell_type": "code",
   "execution_count": 13,
   "id": "a2c35004-7155-44d4-b085-7cdb94b78971",
   "metadata": {},
   "outputs": [
    {
     "data": {
      "text/plain": [
       "('0x5917ea950beb381fddf203b5dbef61b7475c54445296cb40b824cf3b648e49e6',\n",
       " 'cNfLAE5AuU2o6MiCcKBZ3zoPXZsEDV6Tyx8SZBVWiY7VbNcR8DCQ')"
      ]
     },
     "execution_count": 13,
     "metadata": {},
     "output_type": "execute_result"
    }
   ],
   "source": [
    "# Select child accounts (and thus, private keys) by calling coins[COINTYPE][INDEX]['privkey']\n",
    "coins['eth'][0]['privkey'], coins['btc-test'][1]['privkey']"
   ]
  },
  {
   "cell_type": "markdown",
   "id": "e7693f1b-e2bb-47a7-80e5-58dcf1cbb933",
   "metadata": {},
   "source": [
    "## 5. Linking the transaction signing libraries\n",
    "### Using bit and web3.py to leverage the keys stored in the coins object"
   ]
  },
  {
   "cell_type": "code",
   "execution_count": 14,
   "id": "165f0fd1-b8b7-4fa1-b480-12e4744e3ca7",
   "metadata": {},
   "outputs": [],
   "source": [
    "# Create a function called `priv_key_to_account` that converts privkey strings to account objects.\n",
    "def priv_key_to_account(coin, priv_key):  \n",
    "    if coin == ETH:\n",
    "        return Account.privateKeyToAccount(priv_key)\n",
    "    elif coin == BTCTEST:\n",
    "        return PrivateKeyTestnet(priv_key)"
   ]
  },
  {
   "cell_type": "code",
   "execution_count": 15,
   "id": "7eebb3bd-cdda-40b9-8a43-297d1b94f463",
   "metadata": {},
   "outputs": [
    {
     "name": "stdout",
     "output_type": "stream",
     "text": [
      "0x5917ea950beb381fddf203b5dbef61b7475c54445296cb40b824cf3b648e49e6\n",
      "\n"
     ]
    },
    {
     "data": {
      "text/plain": [
       "<eth_account.signers.local.LocalAccount at 0x7f99712541d0>"
      ]
     },
     "execution_count": 15,
     "metadata": {},
     "output_type": "execute_result"
    }
   ],
   "source": [
    "# Check\n",
    "a = coins['eth'][0]['privkey']\n",
    "print(a)\n",
    "print()\n",
    "Account.privateKeyToAccount(a)"
   ]
  },
  {
   "cell_type": "code",
   "execution_count": 16,
   "id": "176e4cfe-5d02-4d95-b8ee-02dd25d36d2a",
   "metadata": {},
   "outputs": [
    {
     "data": {
      "text/plain": [
       "<eth_account.signers.local.LocalAccount at 0x7f99400bcad0>"
      ]
     },
     "execution_count": 16,
     "metadata": {},
     "output_type": "execute_result"
    }
   ],
   "source": [
    "# check\n",
    "priv_key_to_account(ETH, coins[ETH][0]['privkey'])"
   ]
  },
  {
   "cell_type": "markdown",
   "id": "ce99dba3-8eaf-46be-9948-7866050808c3",
   "metadata": {},
   "source": [
    "### Let's Set Accounts"
   ]
  },
  {
   "cell_type": "code",
   "execution_count": 17,
   "id": "7a3f04b4-1368-4cee-bd4d-eaa3286e1f64",
   "metadata": {},
   "outputs": [],
   "source": [
    "priv_key_eth = coins['eth'][0]['privkey']\n",
    "priv_key_btctest = coins['btc-test'][0]['privkey']"
   ]
  },
  {
   "cell_type": "code",
   "execution_count": 18,
   "id": "b304f0b3-850d-469d-89cd-1cf0b415b735",
   "metadata": {},
   "outputs": [
    {
     "name": "stdout",
     "output_type": "stream",
     "text": [
      "0x39b3197DA5bA23D4efBa2D7cC62B183296B4E070\n"
     ]
    }
   ],
   "source": [
    "account_eth = priv_key_to_account(ETH, priv_key_eth)\n",
    "print(account_eth.address)"
   ]
  },
  {
   "cell_type": "code",
   "execution_count": 35,
   "id": "8582a154-2fd4-487d-814d-83021eb30c38",
   "metadata": {},
   "outputs": [
    {
     "name": "stdout",
     "output_type": "stream",
     "text": [
      "69999579999999999993\n"
     ]
    },
    {
     "data": {
      "text/plain": [
       "<eth_account.signers.local.LocalAccount at 0x7f99400c2450>"
      ]
     },
     "execution_count": 35,
     "metadata": {},
     "output_type": "execute_result"
    }
   ],
   "source": [
    "# Address balance eth\n",
    "print(w3.eth.getBalance(account_eth.address))\n",
    "account_eth"
   ]
  },
  {
   "cell_type": "code",
   "execution_count": 19,
   "id": "bc3c59d9-5bb7-40ac-b5bf-da9123e61608",
   "metadata": {},
   "outputs": [
    {
     "name": "stdout",
     "output_type": "stream",
     "text": [
      "mw5aq4qXnC53w1CinhnahZz4CEmTUb221p\n"
     ]
    }
   ],
   "source": [
    "account_btctest = priv_key_to_account(BTCTEST, priv_key_btctest)\n",
    "print(account_btctest.address)"
   ]
  },
  {
   "cell_type": "code",
   "execution_count": 49,
   "id": "4d22b607-d7f6-409a-a648-1c7fab9712f5",
   "metadata": {},
   "outputs": [
    {
     "name": "stdout",
     "output_type": "stream",
     "text": [
      "0.00016848\n"
     ]
    },
    {
     "data": {
      "text/plain": [
       "<PrivateKeyTestnet: mw5aq4qXnC53w1CinhnahZz4CEmTUb221p>"
      ]
     },
     "execution_count": 49,
     "metadata": {},
     "output_type": "execute_result"
    }
   ],
   "source": [
    "print(account_btctest.get_balance('btc'))\n",
    "account_btctest"
   ]
  },
  {
   "cell_type": "code",
   "execution_count": 39,
   "id": "d791e704-b6fe-4b23-b9c5-ea1f1594cf75",
   "metadata": {},
   "outputs": [
    {
     "name": "stdout",
     "output_type": "stream",
     "text": [
      "0x8B93bB4fFE5e736CE6f88969Ac0F194d3C64E68A\n",
      "7\n"
     ]
    },
    {
     "data": {
      "text/plain": [
       "'0x8B93bB4fFE5e736CE6f88969Ac0F194d3C64E68A'"
      ]
     },
     "execution_count": 39,
     "metadata": {},
     "output_type": "execute_result"
    }
   ],
   "source": [
    "address_eth = coins['eth'][1]['address']\n",
    "print(address_eth)\n",
    "\n",
    "print(w3.eth.getBalance(address_eth))\n",
    "address_eth"
   ]
  },
  {
   "cell_type": "code",
   "execution_count": 47,
   "id": "3039c8a6-5c4f-4848-9049-808c3cfe5ec1",
   "metadata": {},
   "outputs": [
    {
     "name": "stdout",
     "output_type": "stream",
     "text": [
      "mpoVSi8fLSUdEp9fE8EAc2o8cCESoK4Jur\n"
     ]
    }
   ],
   "source": [
    "address_btctest = coins['btc-test'][1]['address']\n",
    "print(address_btctest)"
   ]
  },
  {
   "cell_type": "code",
   "execution_count": 48,
   "id": "b2e988e6-6e67-49af-9f63-c4606fb54498",
   "metadata": {},
   "outputs": [
    {
     "name": "stdout",
     "output_type": "stream",
     "text": [
      "mpSE6Mijn78rpzKKMNqVdQymmtgnSZi7r5\n"
     ]
    }
   ],
   "source": [
    "address_btctest = coins['btc-test'][2]['address']\n",
    "print(address_btctest)"
   ]
  },
  {
   "cell_type": "code",
   "execution_count": 40,
   "id": "c2de91b7-4b9e-462e-9da5-6f7128529c1a",
   "metadata": {},
   "outputs": [
    {
     "name": "stdout",
     "output_type": "stream",
     "text": [
      "0x9d129235D3f0AE772F9A04263F08fb7A3344b5f1\n"
     ]
    }
   ],
   "source": [
    "# New eth account to be pre-funded\n",
    "address_eth2 = coins['eth'][2]['address']\n",
    "print(address_eth2)"
   ]
  },
  {
   "cell_type": "code",
   "execution_count": 41,
   "id": "f9432441-29b8-4905-9464-daad930df2a7",
   "metadata": {},
   "outputs": [
    {
     "name": "stdout",
     "output_type": "stream",
     "text": [
      "0\n"
     ]
    },
    {
     "data": {
      "text/plain": [
       "'0x9d129235D3f0AE772F9A04263F08fb7A3344b5f1'"
      ]
     },
     "execution_count": 41,
     "metadata": {},
     "output_type": "execute_result"
    }
   ],
   "source": [
    "# Address balance eth\n",
    "print(w3.eth.getBalance(address_eth2))\n",
    "address_eth2"
   ]
  },
  {
   "cell_type": "code",
   "execution_count": 27,
   "id": "e098e2d1-25cd-4378-9b27-859cace7f9ce",
   "metadata": {},
   "outputs": [],
   "source": [
    "# Create a function called `create_tx` that creates an unsigned transaction appropriate metadata.\n",
    "def create_tx(coin, account, to, amount):\n",
    "    if coin == ETH:\n",
    "        gasEstimate = w3.eth.estimateGas(\n",
    "            {\"from\": account.address, \"to\": to, \"value\": amount}\n",
    "        )\n",
    "\n",
    "        return {\n",
    "            \"from\": account.address,\n",
    "            \"to\": to,\n",
    "            \"value\": amount,\n",
    "            \"gasPrice\": w3.eth.gasPrice,\n",
    "            \"gas\": gasEstimate,\n",
    "            \"nonce\": w3.eth.getTransactionCount(account.address),\n",
    "            \"chainID\": w3.eth.chain_id\n",
    "        }\n",
    "    elif coin==BTCTEST:\n",
    "        return PrivateKeyTestnet.prepare_transaction(account.address, [(to, amount, BTC)])"
   ]
  },
  {
   "cell_type": "code",
   "execution_count": 28,
   "id": "41227b08-964a-4f7e-b244-aa2e9a3b56de",
   "metadata": {},
   "outputs": [],
   "source": [
    "# Create a function called `send_tx` that calls `create_tx`, signs and sends the transaction.\n",
    "def send_tx(coin, account, to, amount): \n",
    "    raw_tx = create_raw_tx(coin, account, to, amount)\n",
    "    signed_tx = account.sign_transaction(raw_tx)\n",
    "    \n",
    "    if coin == ETH:\n",
    "        result = w3.eth.sendRawTransaction(signed_tx.rawTransaction)\n",
    "        print(result.hex())\n",
    "        return result.hex()\n",
    "    elif coin == BTCTEST:        \n",
    "        result = NetworkAPI.broadcast_tx_testnet(signed_tx)\n",
    "        return result"
   ]
  },
  {
   "cell_type": "code",
   "execution_count": 25,
   "id": "fc6a5b23-f178-48de-81fe-e5c1ed9462ed",
   "metadata": {},
   "outputs": [],
   "source": [
    "# send_tx(ETH, account_eth, \"0x8B93bB4fFE5e736CE6f88969Ac0F194d3C64E68A\", 7)"
   ]
  },
  {
   "cell_type": "code",
   "execution_count": 26,
   "id": "9b817fdd-bdd6-4c16-af51-555d53ebaf76",
   "metadata": {},
   "outputs": [],
   "source": [
    "# send_tx(BTCTEST, account_btctest, address_btctest, 0.000001)"
   ]
  }
 ],
 "metadata": {
  "kernelspec": {
   "display_name": "Python 3",
   "language": "python",
   "name": "python3"
  },
  "language_info": {
   "codemirror_mode": {
    "name": "ipython",
    "version": 3
   },
   "file_extension": ".py",
   "mimetype": "text/x-python",
   "name": "python",
   "nbconvert_exporter": "python",
   "pygments_lexer": "ipython3",
   "version": "3.7.10"
  }
 },
 "nbformat": 4,
 "nbformat_minor": 5
}
